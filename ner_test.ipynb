{
 "cells": [
  {
   "cell_type": "code",
   "execution_count": null,
   "metadata": {},
   "outputs": [],
   "source": [
    "\"!pip install spacy\""
   ]
  },
  {
   "cell_type": "code",
   "execution_count": null,
   "metadata": {},
   "outputs": [],
   "source": [
    "\"!python3 -m spacy download en_core_web_sm\""
   ]
  },
  {
   "cell_type": "code",
   "execution_count": null,
   "metadata": {},
   "outputs": [],
   "source": [
    "\"!pip install feedparser\""
   ]
  },
  {
   "cell_type": "code",
   "execution_count": 1,
   "metadata": {},
   "outputs": [],
   "source": [
    "import feedparser\n",
    "\n",
    "url = \"https://www.ntv.com.tr/turkiye.rss\"\n",
    "news_feed = feedparser.parse(url)\n",
    "articles = [entry['summary'] for entry in news_feed['entries']]\n"
   ]
  },
  {
   "cell_type": "code",
   "execution_count": null,
   "metadata": {},
   "outputs": [],
   "source": [
    "\"\"\"import spacy\n",
    "nlp = spacy.load(\"en_core_web_sm\")\n",
    "\n",
    "for article in articles:\n",
    "    doc = nlp(article)\n",
    "    entities = [(ent.text, ent.label_) for ent in doc.ents]\n",
    "    print(f\"Entities in article: {entities}\")\n",
    "\"\"\"\n",
    "\n",
    "#this part is for NER"
   ]
  },
  {
   "cell_type": "code",
   "execution_count": null,
   "metadata": {},
   "outputs": [
    {
     "data": {
      "text/plain": [
       "'import spacy\\nnlp = spacy.load(\"en_core_web_sm\")'"
      ]
     },
     "execution_count": 27,
     "metadata": {},
     "output_type": "execute_result"
    }
   ],
   "source": [
    "\"\"\"import spacy\n",
    "nlp = spacy.load(\"en_core_web_sm\")\"\"\"\n",
    "\n",
    "#spacy model import and model loading"
   ]
  },
  {
   "cell_type": "code",
   "execution_count": null,
   "metadata": {},
   "outputs": [],
   "source": [
    "\"\"\"text = \"We are excited to invite you and your students to an upcoming online info session about our 2025 Summer School programs at the University of Pécs.\"\"\"\"\n",
    "\n",
    "#text for dependency analysis"
   ]
  },
  {
   "cell_type": "code",
   "execution_count": null,
   "metadata": {},
   "outputs": [],
   "source": [
    "\"\"\"doc = nlp(text)\n",
    "\n",
    "for token in doc:\n",
    "    print(f\"Token: {token.text}, POS: {token.pos_}, Dep: {token.dep_}, Head: {token.head.text}, Children: {[child.text for child in token.children]}\")\"\"\"\n",
    "\n",
    "#dependency analysis"
   ]
  },
  {
   "cell_type": "code",
   "execution_count": null,
   "metadata": {},
   "outputs": [],
   "source": [
    "def feedparser_from_url(url):\n",
    "    feed = feedparser.parse(url)\n",
    "    return [entry['summary'] for entry in feed['entries']]\n",
    "\n",
    "#function for feedparser usage"
   ]
  },
  {
   "cell_type": "code",
   "execution_count": 24,
   "metadata": {},
   "outputs": [],
   "source": [
    "file = open(\"rss_links.txt\", \"r\")\n",
    "text = file.read()\n",
    "urls = [a for a in text.split()]\n",
    "entries =[]\n",
    "index = 0"
   ]
  },
  {
   "cell_type": "code",
   "execution_count": null,
   "metadata": {},
   "outputs": [],
   "source": [
    "while(len(entries) < 2000):\n",
    "    if index > (len(urls) - 1):\n",
    "        break\n",
    "    url = urls[index]\n",
    "    entry = feedparser_from_url(url)\n",
    "    entries += entry\n",
    "    index +=1\n",
    "    print(url)\n",
    "    print(len(entries))\n",
    "    "
   ]
  },
  {
   "cell_type": "code",
   "execution_count": null,
   "metadata": {},
   "outputs": [],
   "source": [
    "print(entries)"
   ]
  }
 ],
 "metadata": {
  "kernelspec": {
   "display_name": "Python 3",
   "language": "python",
   "name": "python3"
  },
  "language_info": {
   "codemirror_mode": {
    "name": "ipython",
    "version": 3
   },
   "file_extension": ".py",
   "mimetype": "text/x-python",
   "name": "python",
   "nbconvert_exporter": "python",
   "pygments_lexer": "ipython3",
   "version": "3.10.12"
  }
 },
 "nbformat": 4,
 "nbformat_minor": 2
}
